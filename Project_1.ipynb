{
 "cells": [
  {
   "cell_type": "code",
   "execution_count": 1,
   "metadata": {},
   "outputs": [],
   "source": [
    "players = [\n",
    "    {\"name\": \"Messi\", \"goals\": 32, \"assists\": 14},\n",
    "    {\"name\": \"Naymer\", \"goals\": 8, \"assists\": 12},\n",
    "    {\"name\": \"Ronaldo\", \"goals\": 25, \"assists\": 7},\n",
    "    {\"name\": \"Salah\", \"goals\": 15, \"assists\": 6},\n",
    "]\n",
    "\n",
    "\n"
   ]
  },
  {
   "cell_type": "code",
   "execution_count": 2,
   "metadata": {},
   "outputs": [],
   "source": [
    "def calculate_rating(player):\n",
    "    rating = (player[\"goals\"] * 2) + (player[\"assists\"] * 1)\n",
    "    return rating"
   ]
  },
  {
   "cell_type": "code",
   "execution_count": 3,
   "metadata": {},
   "outputs": [],
   "source": [
    "sorted_players = sorted(players, key=lambda player: calculate_rating(player), reverse=True)\n",
    "\n",
    "highest_player_rating = calculate_rating(sorted_players[0])"
   ]
  },
  {
   "cell_type": "code",
   "execution_count": 4,
   "metadata": {},
   "outputs": [
    {
     "name": "stdout",
     "output_type": "stream",
     "text": [
      "Players sorted by rating and normalized ratings out of 100:\n",
      "Messi: Rating 78, Normalized Rating: 100.00 (Goals: 32, Assists: 14)\n",
      "Ronaldo: Rating 57, Normalized Rating: 73.08 (Goals: 25, Assists: 7)\n",
      "Salah: Rating 36, Normalized Rating: 46.15 (Goals: 15, Assists: 6)\n",
      "Naymer: Rating 28, Normalized Rating: 35.90 (Goals: 8, Assists: 12)\n"
     ]
    }
   ],
   "source": [
    "print(\"Players sorted by rating and normalized ratings out of 100:\")\n",
    "for player in sorted_players:\n",
    "    normalized_rating = (calculate_rating(player) / highest_player_rating) * 100\n",
    "    print(f\"{player['name']}: Rating {calculate_rating(player)}, Normalized Rating: {normalized_rating:.2f} (Goals: {player['goals']}, Assists: {player['assists']})\")"
   ]
  },
  {
   "cell_type": "code",
   "execution_count": 5,
   "metadata": {},
   "outputs": [],
   "source": [
    "user_input = input(\"Enter the name of a player to retrieve their information: \")"
   ]
  },
  {
   "cell_type": "code",
   "execution_count": 6,
   "metadata": {},
   "outputs": [
    {
     "name": "stdout",
     "output_type": "stream",
     "text": [
      "Player Ronaldo - Goals: 25, Assists: 7, Rating: 57, Normalized Rating: 73.08\n"
     ]
    }
   ],
   "source": [
    "found_player = None\n",
    "for player in sorted_players:\n",
    "    if player['name'] == user_input:\n",
    "        found_player = player\n",
    "        break\n",
    "\n",
    "if found_player:\n",
    "    normalized_rating = (calculate_rating(found_player) / highest_player_rating) * 100\n",
    "    print(f\"Player {found_player['name']} - Goals: {found_player['goals']}, Assists: {found_player['assists']}, Rating: {calculate_rating(found_player)}, Normalized Rating: {normalized_rating:.2f}\")\n",
    "else:\n",
    "    print(f\"Player {user_input} not found in the sorted list.\")"
   ]
  }
 ],
 "metadata": {
  "kernelspec": {
   "display_name": "Data_Analysis",
   "language": "python",
   "name": "python3"
  },
  "language_info": {
   "codemirror_mode": {
    "name": "ipython",
    "version": 3
   },
   "file_extension": ".py",
   "mimetype": "text/x-python",
   "name": "python",
   "nbconvert_exporter": "python",
   "pygments_lexer": "ipython3",
   "version": "3.11.5"
  },
  "orig_nbformat": 4
 },
 "nbformat": 4,
 "nbformat_minor": 2
}
